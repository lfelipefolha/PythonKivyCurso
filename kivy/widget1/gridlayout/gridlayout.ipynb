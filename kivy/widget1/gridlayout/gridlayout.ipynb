{
 "cells": [
  {
   "cell_type": "code",
   "execution_count": 1,
   "metadata": {},
   "outputs": [
    {
     "name": "stderr",
     "output_type": "stream",
     "text": [
      "[INFO   ] [Logger      ] Record log in /home/lfelipefolha/.kivy/logs/kivy_20-05-31_5.txt\n",
      "[INFO   ] [Factory     ] 184 symbols loaded\n",
      "[INFO   ] [Image       ] Providers: img_tex, img_dds, img_sdl2, img_gif (img_pil, img_ffpyplayer ignored)\n",
      "[INFO   ] [Text        ] Provider: sdl2\n",
      "[INFO   ] [Kivy        ] v1.11.1\n",
      "[INFO   ] [Kivy        ] Installed at \"/home/lfelipefolha/.virtualenvs/k37/lib/python3.7/site-packages/kivy/__init__.py\"\n",
      "[INFO   ] [Python      ] v3.7.5 (default, Apr 19 2020, 20:18:17) \n",
      "[GCC 9.2.1 20191008]\n",
      "[INFO   ] [Python      ] Interpreter at \"/home/lfelipefolha/.virtualenvs/k37/bin/python\"\n",
      "[WARNING] [Deprecated  ] Call to deprecated function __init__ in /home/lfelipefolha/.virtualenvs/k37/lib/python3.7/site-packages/kivy/interactive.py line 308.Called from <ipython-input-2-9364ac53d1ab> line 4 by <module>().\n",
      "[INFO   ] [Window      ] Provider: sdl2(['window_egl_rpi'] ignored)\n",
      "[INFO   ] [GL          ] Using the \"OpenGL\" graphics system\n",
      "[INFO   ] [GL          ] Backend used <sdl2>\n",
      "[INFO   ] [GL          ] OpenGL version <b'3.0 Mesa 19.2.8'>\n",
      "[INFO   ] [GL          ] OpenGL vendor <b'Intel Open Source Technology Center'>\n",
      "[INFO   ] [GL          ] OpenGL renderer <b'Mesa DRI Intel(R) HD Graphics 5500 (Broadwell GT2) '>\n",
      "[INFO   ] [GL          ] OpenGL parsed version: 3, 0\n",
      "[INFO   ] [GL          ] Shading version <b'1.30'>\n",
      "[INFO   ] [GL          ] Texture max size <16384>\n",
      "[INFO   ] [GL          ] Texture max units <32>\n",
      "[INFO   ] [Window      ] auto add sdl2 input provider\n",
      "[INFO   ] [Window      ] virtual keyboard not allowed, single mode, not docked\n",
      "[INFO   ] [ProbeSysfs  ] device match: /dev/input/event6\n",
      "[INFO   ] [MTD         ] Read event from </dev/input/event6>\n",
      "[INFO   ] [Base        ] Start application main loop\n",
      "[WARNING] [MTD         ] Unable to open device \"/dev/input/event6\". Please ensure you have the appropriate permissions.\n",
      "[INFO   ] [GL          ] NPOT texture support is available\n",
      "[INFO   ] [WindowSDL   ] exiting mainloop and closing.\n",
      "[INFO   ] [Base        ] Leaving application in progress...\n"
     ]
    }
   ],
   "source": [
    "from kivy.app import App\n",
    "from kivy.uix.button import Button\n",
    "from kivy.interactive import InteractiveLauncher\n",
    "from kivy.lang import Builder\n",
    "#força a aplicaçao a nao iniciar em tela cheiaB\n",
    "from kivy.config import Config\n",
    "Config.set(\"graphics\", \"fullscreen\", \"0\")\n",
    "\n",
    "janela = None\n",
    "glayout = None"
   ]
  },
  {
   "cell_type": "code",
   "execution_count": 2,
   "metadata": {},
   "outputs": [],
   "source": [
    "class JanelaApp(App):\n",
    "    pass\n",
    "janela = JanelaApp()\n",
    "ji = InteractiveLauncher(janela)\n",
    "ji.run()"
   ]
  },
  {
   "cell_type": "code",
   "execution_count": 3,
   "metadata": {},
   "outputs": [],
   "source": [
    "kvcode = \"\"\"\n",
    "BoxLayout:\n",
    "    Button:\n",
    "        size_hint: .1, .1\n",
    "        #pos_hint:{\"x\":.3, \"top\":1.}\n",
    "        text:\"AC\"\n",
    "    Button:\n",
    "        size_hint: .1, .1\n",
    "        #pos_hint:{\"x\":.3, \"top\":1.}\n",
    "        text:\"AC\"\n",
    "    Button:\n",
    "        size_hint: .1, .1\n",
    "        #pos_hint:{\"x\":.3, \"top\":1.}\n",
    "        text:\"AC\"\n",
    "\n",
    "\"\"\"\n",
    "if (janela.root):\n",
    "    janela.root_window.remove_widget(janela.root)\n",
    "    janela.root = None\n",
    "    glayout = None\n",
    "    \n",
    "janela.root = glayout = Builder.load_string(kvcode)\n",
    "janela.root_window.add_widget(glayout)"
   ]
  },
  {
   "cell_type": "code",
   "execution_count": null,
   "metadata": {},
   "outputs": [],
   "source": []
  }
 ],
 "metadata": {
  "kernelspec": {
   "display_name": "Python 3",
   "language": "python",
   "name": "python3"
  },
  "language_info": {
   "codemirror_mode": {
    "name": "ipython",
    "version": 3
   },
   "file_extension": ".py",
   "mimetype": "text/x-python",
   "name": "python",
   "nbconvert_exporter": "python",
   "pygments_lexer": "ipython3",
   "version": "3.7.5"
  }
 },
 "nbformat": 4,
 "nbformat_minor": 4
}
