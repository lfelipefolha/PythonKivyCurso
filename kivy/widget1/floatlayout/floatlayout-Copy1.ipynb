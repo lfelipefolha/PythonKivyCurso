{
 "cells": [
  {
   "cell_type": "code",
   "execution_count": null,
   "metadata": {},
   "outputs": [],
   "source": [
    "from kivy.app import App\n",
    "from kivy.uix.button import Button\n",
    "from kivy.interactive import InteractiveLauncher\n",
    "from kivy.lang import Builder\n",
    "#força a aplicaçao a nao iniciar em tela cheiaB\n",
    "from kivy.config import Config\n",
    "Config.set(\"graphics\", \"fullscreen\", \"0\")\n",
    "\n",
    "janela = None\n",
    "glayout = None"
   ]
  },
  {
   "cell_type": "code",
   "execution_count": null,
   "metadata": {},
   "outputs": [],
   "source": [
    "class JanelaApp(App):\n",
    "    pass\n",
    "janela = JanelaApp()\n",
    "ji = InteractiveLauncher(janela)\n",
    "ji.run()"
   ]
  },
  {
   "cell_type": "code",
   "execution_count": null,
   "metadata": {},
   "outputs": [],
   "source": [
    "kvcode = \"\"\"\n",
    "FloatLayout:\n",
    "    Button:\n",
    "        size_hint: .1, .1\n",
    "        pos_hint:{\"x\":0, \"top\":1.}\n",
    "        text:\"AC\"\n",
    "    Button:\n",
    "        size_hint: .1, .1\n",
    "        pos_hint:{\"center_x\":.5, \"center_y\":.5}\n",
    "        text:\"DC\"\n",
    "    Button:\n",
    "        size_hint: .1, .1\n",
    "        pos_hint:{\"y\":0, \"right\":1.}\n",
    "        text:\"AC\"\n",
    "    Button:\n",
    "        size_hint: None, None\n",
    "        pos_hint:{\"center_y\":.75}\n",
    "        x:100\n",
    "        width:200\n",
    "        height:100\n",
    "        text:\"StefanyAbsoluta\"\n",
    "\n",
    "\"\"\"\n",
    "if (janela.root):\n",
    "    janela.root_window.remove_widget(janela.root)\n",
    "    janela.root = None\n",
    "    glayout = None\n",
    "    \n",
    "janela.root = glayout = Builder.load_string(kvcode)\n",
    "janela.root_window.add_widget(glayout)"
   ]
  },
  {
   "cell_type": "code",
   "execution_count": null,
   "metadata": {},
   "outputs": [],
   "source": []
  },
  {
   "cell_type": "code",
   "execution_count": null,
   "metadata": {},
   "outputs": [],
   "source": []
  }
 ],
 "metadata": {
  "kernelspec": {
   "display_name": "Python 3",
   "language": "python",
   "name": "python3"
  },
  "language_info": {
   "codemirror_mode": {
    "name": "ipython",
    "version": 3
   },
   "file_extension": ".py",
   "mimetype": "text/x-python",
   "name": "python",
   "nbconvert_exporter": "python",
   "pygments_lexer": "ipython3",
   "version": "3.7.5"
  }
 },
 "nbformat": 4,
 "nbformat_minor": 4
}
